{
 "cells": [
  {
   "cell_type": "code",
   "execution_count": null,
   "id": "56f7945b",
   "metadata": {},
   "outputs": [],
   "source": [
    "# 1) Inspect dataset layout\n",
    "!ls data/raw/ml-100k"
   ]
  },
  {
   "cell_type": "code",
   "execution_count": null,
   "id": "7b1cbf96",
   "metadata": {},
   "outputs": [],
   "source": [
    "# 2) Build matrix + mappings\n",
    "%run -m src.data_prep"
   ]
  },
  {
   "cell_type": "code",
   "execution_count": null,
   "id": "8005f3f2",
   "metadata": {},
   "outputs": [],
   "source": [
    "# 3) Fit kNN model\n",
    "%run -m src.model_knn"
   ]
  },
  {
   "cell_type": "code",
   "execution_count": null,
   "id": "ce6f753b",
   "metadata": {},
   "outputs": [],
   "source": [
    "# 4) Quick smoke test\n",
    "from src.recommend import RecommenderArtifacts, recommendations_df\n",
    "A = RecommenderArtifacts()\n",
    "recommendations_df(A, 42, k_neighbors=20, topn=10, min_neighbor_rating=4.0)"
   ]
  }
 ],
 "metadata": {
  "kernelspec": {
   "display_name": ".venv",
   "language": "python",
   "name": "python3"
  },
  "language_info": {
   "codemirror_mode": {
    "name": "ipython",
    "version": 3
   },
   "file_extension": ".py",
   "mimetype": "text/x-python",
   "name": "python",
   "nbconvert_exporter": "python",
   "pygments_lexer": "ipython3",
   "version": "3.12.11"
  }
 },
 "nbformat": 4,
 "nbformat_minor": 5
}
